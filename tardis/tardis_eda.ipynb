{
 "cells": [
  {
   "cell_type": "code",
   "execution_count": 15,
   "id": "02dc2439",
   "metadata": {},
   "outputs": [],
   "source": [
    "import pandas as pd\n",
    "import numpy as np\n",
    "import matplotlib.pyplot as plt\n",
    "import seaborn as sns\n",
    "\n",
    "# Load raw dataset\n",
    "df = pd.read_csv(\"dataset.csv\", delimiter=\";\", on_bad_lines=\"skip\")\n",
    "\n",
    "# Step 1: Drop columns with excessive missing values\n",
    "threshold_missing = 0.98\n",
    "missing_ratio = df.isnull().mean()\n",
    "df = df.loc[:, missing_ratio < threshold_missing]\n",
    "\n"
   ]
  },
  {
   "cell_type": "code",
   "execution_count": 16,
   "id": "61a2b85e",
   "metadata": {},
   "outputs": [],
   "source": [
    "# Step 2: Drop rows missing essential fields\n",
    "df = df.dropna(subset=[\"Date\", \"Departure station\", \"Arrival station\"])"
   ]
  },
  {
   "cell_type": "code",
   "execution_count": 17,
   "id": "99b968ba",
   "metadata": {},
   "outputs": [],
   "source": [
    "# Step 3: Convert Date to datetime and extract useful time features\n",
    "df[\"Date\"] = pd.to_datetime(df[\"Date\"], errors=\"coerce\")\n",
    "df = df.dropna(subset=[\"Date\"])\n",
    "df[\"Year\"] = df[\"Date\"].dt.year\n",
    "df[\"Month\"] = df[\"Date\"].dt.month"
   ]
  },
  {
   "cell_type": "code",
   "execution_count": 18,
   "id": "47fc3dd9",
   "metadata": {},
   "outputs": [],
   "source": [
    "# Step 4: Fill missing numeric values with 0\n",
    "numeric_cols = df.select_dtypes(include=[np.number]).columns\n",
    "df[numeric_cols] = df[numeric_cols].fillna(0)"
   ]
  },
  {
   "cell_type": "code",
   "execution_count": 19,
   "id": "2c7d2447",
   "metadata": {},
   "outputs": [
    {
     "name": "stdout",
     "output_type": "stream",
     "text": [
      "Cleaned dataset saved as cleaned_dataset.csv\n"
     ]
    }
   ],
   "source": [
    "# Save the cleaned dataset\n",
    "df['Departure station'] = df['Departure station'].str.upper().str.replace(r\"[^A-Z\\\\s]\", \"\", regex=True).str.strip()\n",
    "df.to_csv(\"cleaned_dataset.csv\", index=False)\n",
    "print(\"Cleaned dataset saved as cleaned_dataset.csv\")"
   ]
  },
  {
   "cell_type": "code",
   "execution_count": 20,
   "id": "4dfa2de2",
   "metadata": {},
   "outputs": [],
   "source": [
    "# Generate Plot 1: Arrival Delay Distribution\n",
    "plt.figure(figsize=(10, 6))\n",
    "sns.histplot(df['Average delay of all trains at arrival'], bins=50, kde=True)\n",
    "plt.title('Distribution of Average Arrival Delays')\n",
    "plt.xlabel('Average Delay (minutes)')\n",
    "plt.ylabel('Frequency')\n",
    "plt.tight_layout()\n",
    "plt.savefig(\"arrival_delay_distribution.png\")\n",
    "plt.close()"
   ]
  },
  {
   "cell_type": "code",
   "execution_count": 21,
   "id": "195fbe78",
   "metadata": {},
   "outputs": [],
   "source": [
    "# Generate Plot 2: Departure Delay by Top Stations\n",
    "top_stations = df['Departure station'].value_counts().head(10).index\n",
    "station_delays = df[df['Departure station'].isin(top_stations)]\n",
    "\n",
    "plt.figure(figsize=(12, 6))\n",
    "sns.boxplot(data=station_delays, x='Departure station', y='Average delay of all trains at departure')\n",
    "plt.xticks(rotation=45)\n",
    "plt.title('Departure Delay by Station')\n",
    "plt.tight_layout()\n",
    "plt.savefig(\"departure_delay_by_station.png\")\n",
    "plt.close()"
   ]
  },
  {
   "cell_type": "code",
   "execution_count": 23,
   "id": "0fddda6d",
   "metadata": {},
   "outputs": [
    {
     "name": "stdout",
     "output_type": "stream",
     "text": [
      "\n",
      "EDA plots saved: arrival_delay_distribution.png, departure_delay_by_station.png, correlation_heatmap.png\n"
     ]
    }
   ],
   "source": [
    "# Generate Plot 3: Correlation Heatmap\n",
    "plt.figure(figsize=(14, 10))\n",
    "sns.heatmap(df[numeric_cols].corr(), annot=False, cmap='coolwarm')\n",
    "plt.title('Correlation Heatmap of Delay Factors')\n",
    "plt.tight_layout()\n",
    "plt.savefig(\"correlation_heatmap.png\")\n",
    "plt.close()\n",
    "\n",
    "print(\"\\nEDA plots saved: arrival_delay_distribution.png, departure_delay_by_station.png, correlation_heatmap.png\")\n"
   ]
  }
 ],
 "metadata": {
  "kernelspec": {
   "display_name": "Python 3",
   "language": "python",
   "name": "python3"
  },
  "language_info": {
   "codemirror_mode": {
    "name": "ipython",
    "version": 3
   },
   "file_extension": ".py",
   "mimetype": "text/x-python",
   "name": "python",
   "nbconvert_exporter": "python",
   "pygments_lexer": "ipython3",
   "version": "3.10.4"
  }
 },
 "nbformat": 4,
 "nbformat_minor": 5
}
